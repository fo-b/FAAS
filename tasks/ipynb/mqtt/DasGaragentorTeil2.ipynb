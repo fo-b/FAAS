{
 "cells": [
  {
   "cell_type": "markdown",
   "id": "aa1527a7deefdd8e",
   "metadata": {
    "collapsed": false
   },
   "source": [
    "# Mini Service mit Python\n",
    "\n",
    "Diese Übung baut auf der \"Das Garagentor\" (IoT MQTT HTTP) Übung auf. \n",
    "\n",
    "In der Übung das Garangentor bauen wir einen kleinen Backend Service. Bevor ein Service deployed wird, ist es essenziell Bausteine für den Betrieb und Wartung einzubauen. \n",
    "Zwei zentrale Aspekte schauen wir uns an: \n",
    "\n",
    "  - Konfigurationsparameter (z.B. MQTT Host, Username, usw.) gehören in eine separate Konfigurationsdatei\n",
    "  - Protokollierung: Nachvollziehbarkeit (insbesondere von Exceptions) gewährleisten\n",
    "\n",
    "Damit ein Service stabil funktioniert, gehören noch weitere, vor allem im Bezug auf die Code Struktur, dazu. \n",
    "Weiter gehört auch das Sammeln von Metriken dazu, um zum Beispiel bei hoher Auslastung des Services entsprechende Massnahmen ergreifen zu können.   \n",
    "\n",
    "## Lerninhalte\n",
    "  - Konfigurationsdateien mit [YAML](https://yaml.org/)\n",
    "  - Protokollierung - [Python logging library](https://docs.python.org/3/library/logging.html)\n",
    "\n"
   ]
  },
  {
   "cell_type": "markdown",
   "id": "8d998cf6010ed637",
   "metadata": {
    "collapsed": false
   },
   "source": [
    "# Protokollieren\n",
    "\n",
    "Eine Logging Library ist Teil jeder erfolgreichen Programmiersprache. Entweder gleich Integriert (wie bei Python) oder als separate Library (Java [Log4j](https://logging.apache.org/log4j/2.x/)). \n",
    "\n",
    "Eines der wichtigen Konzepte bei der Protokollierung ist das Logging Level. Dazu gibt es gute Artikel im WWW: \n",
    " - [Python Logging Levels Explained](https://www.logicmonitor.com/blog/python-logging-levels-explained)\n",
    " - [Real Python - Logging](https://realpython.com/python-logging/)\n",
    "\n",
    "**Challenge 1:** Passe das nachfolgende Skript so an, dass die Meldung in Zeile 5 nicht auf der Konsole ausgegeben wird, aber die Meldung in Zeile 6 schon. \n",
    "\n",
    "**Hinweis:** `force=True` in der Zeile 3 ist nur gesetzt, weil sonst der Jupyter Kernel für jede Ausführung neu gestartet werden müsste. Manual Hinweis zu Force: `If this keyword  is specified as true, any existing handlers attached to the root logger are removed and closed, before carrying out the configuration as specified by the other arguments.` (Beschreibung Aufrufen: In Pycharm mit gedrückter `Ctrl` Taste auf `basicConfig` klicken).  \n",
    "  "
   ]
  },
  {
   "cell_type": "code",
   "execution_count": 13,
   "id": "e4367402122d9655",
   "metadata": {
    "collapsed": false
   },
   "outputs": [],
   "source": [
    "import logging\n",
    "import os.path\n",
    "import sys\n",
    "\n",
    "logging.basicConfig(level=logging.WARNING, force=True)\n",
    "\n",
    "logging.debug('This will not get logged')\n",
    "logging.info('This will get logged')"
   ]
  },
  {
   "cell_type": "markdown",
   "id": "4b84d0569b069a97",
   "metadata": {
    "collapsed": false
   },
   "source": [
    "### Log-Dateien\n",
    "\n",
    "Läuft ein Service im Hintergrund und möchte der Administrator z.B. einen Fehler Diagnostizieren, sind Log Dateien äusserst praktisch. \n",
    "Nicht immer müssen Anwendungen selbst Log-Dateien erstellen, denn in gewissen Anwendungsfällen reicht es, wenn der Service auf das Terminal protokolliert, weil ein übergeordneter Service den `Standard Output` abfangt und in einer übergeordnete Anwendung protokolliert (z.B. bei Container: [Docker Logging: A Complete Guide](https://sematext.com/guides/docker-logs/)). Vor der Implementation der Protokollierung empfiehlt es sich immer zu prüfen, wie die Anwendung oder der Service in Zukunft ausgeführt wird. Denn dieses Kriterium ist für die Umsetzung ausschlaggebend. \n",
    "\n",
    "Unser Service soll zukünftig direkt via systemctl in einer Debian Umgebung ausgeführt werden. Um die Protokollierung möchten wir uns selber kümmern. \n",
    "\n",
    "**Challenge 2:** Passe das nachfolgende Skript so an, dass die Meldung in Zeile 4 protokolliert wird und dass die Log-Datei nicht jedes Mal zu Begin gelöscht wird, sondern die Einträge angefügt werden. Tipp: Alle Änderungen erfolgen in der Zeile 3. "
   ]
  },
  {
   "cell_type": "markdown",
   "id": "14eaf4fbd154ef8e",
   "metadata": {
    "collapsed": false
   },
   "source": []
  },
  {
   "cell_type": "code",
   "execution_count": 14,
   "id": "52746a8c720ec3ab",
   "metadata": {
    "collapsed": false
   },
   "outputs": [],
   "source": [
    "import logging\n",
    "\n",
    "logging.basicConfig(filename='app.log', filemode='a', format='%(asctime)s - %(name)s - %(levelname)s - %(message)s', force=True, level=logging.WARNING)\n",
    "logging.warning('This will get logged to a file')\n",
    "\n"
   ]
  },
  {
   "cell_type": "markdown",
   "id": "66c022a7d99a285a",
   "metadata": {
    "collapsed": false
   },
   "source": [
    "In **Challenge 2** haben wir erfolgreich in eine Datei protokolliert. Nun kommen noch zwei weitere Anforderungen hinzu:\n",
    "  - Die Log-Dateien sollen nach ein paar Tagen gelöscht werden (Log-Rotation)\n",
    "  - Die Ausgabe soll gleichzeitig auf dem Terminal und in die Datei erfolgen.\n",
    "\n",
    "Dafür definieren wir mehrere Handlers. Ein `StreamHandler` (Protokollierung in die Konsole) wird standardmässig hinzugefügt und in `basicConfig` konfiguriert. Wenn in `basicConfig` die Option `filename` gesetzt wird, wird stattdessen ein Handler konfiguriert, der in eine Datei protokolliert. In nachfolgenden Code wurde ein zusätzlicher Handler definiert, welcher nicht nur in eine Datei protokolliert, sondern die Log-Datei täglich versioniert. Log-Dateien die älter als 10 Tage sind (`backupCount`) werden automatisch gelöscht. \n",
    "\n",
    "**Challenge 3:** Passe den nachfolgenden Code so an, dass die Aussagen in Zeile 16 und 17 stimmen, ohne dabei die Zeilen 16 und 17 zu ändern. \n"
   ]
  },
  {
   "cell_type": "code",
   "execution_count": 21,
   "id": "4f1ef0b8a9d26ad4",
   "metadata": {
    "collapsed": false
   },
   "outputs": [
    {
     "name": "stderr",
     "output_type": "stream",
     "text": [
      "2024-01-24 10:54:09,418 - root - INFO - We want this line in our log file and in our Console.\n"
     ]
    }
   ],
   "source": [
    "import logging.handlers\n",
    "\n",
    "LOG_FORMAT = '%(asctime)s - %(name)s - %(levelname)s - %(message)s'\n",
    "#Chnage logging type\n",
    "logging.basicConfig(level=logging.INFO, format=LOG_FORMAT, force=True)\n",
    "\n",
    "logger = logging.getLogger()\n",
    "\n",
    "fh = logging.handlers.TimedRotatingFileHandler(filename='mylog.log', when=\"midnight\", backupCount=10)\n",
    "fh.setFormatter(logging.Formatter(LOG_FORMAT))\n",
    "\n",
    "fh.setLevel(logging.ERROR)\n",
    "logger.addHandler(fh)\n",
    "\n",
    "logger.debug(\"We only need this line when we are debugging and not in our log file.\")\n",
    "logger.info(\"We want this line in our log file and in our Console.\")"
   ]
  },
  {
   "cell_type": "markdown",
   "id": "d33e2ba7f0afbe3f",
   "metadata": {
    "collapsed": false
   },
   "source": [
    "### Uncaught Exception\n",
    "\n",
    "Wenn Exceptions auftreten, die nicht explizit abgefangen und geloggt werden, dann werden diese nur auf dem `Standard Output` ausgegeben. Mit einer kleinen Erweiterung können wir dem Python Interpreter sagen, dass er alle Exceptions protokollieren soll. \n",
    "\n",
    "Das nachfolgende Skript funktioniert innerhalb von Jupyter nicht, das Jupyter selbst die Exception bereits abfängt und im Output darstellt. Um das nachfolgende Skript auszuprobieren, muss es in einer separaten Python Skript Datei ausgeführt werden. "
   ]
  },
  {
   "cell_type": "code",
   "execution_count": 30,
   "id": "7209f653f47703a9",
   "metadata": {
    "collapsed": false
   },
   "outputs": [
    {
     "ename": "ValueError",
     "evalue": "invalid literal for int() with base 10: 'Hallo'",
     "output_type": "error",
     "traceback": [
      "\u001b[0;31m---------------------------------------------------------------------------\u001b[0m",
      "\u001b[0;31mValueError\u001b[0m                                Traceback (most recent call last)",
      "Cell \u001b[0;32mIn[30], line 20\u001b[0m\n\u001b[1;32m     17\u001b[0m sys\u001b[38;5;241m.\u001b[39mexcepthook \u001b[38;5;241m=\u001b[39m handle_exception\n\u001b[1;32m     19\u001b[0m \u001b[38;5;66;03m# Invalid conversion\u001b[39;00m\n\u001b[0;32m---> 20\u001b[0m a \u001b[38;5;241m=\u001b[39m \u001b[38;5;28;43mint\u001b[39;49m\u001b[43m(\u001b[49m\u001b[38;5;124;43m\"\u001b[39;49m\u001b[38;5;124;43mHallo\u001b[39;49m\u001b[38;5;124;43m\"\u001b[39;49m\u001b[43m)\u001b[49m\n",
      "\u001b[0;31mValueError\u001b[0m: invalid literal for int() with base 10: 'Hallo'"
     ]
    }
   ],
   "source": [
    "import logging.handlers\n",
    "import sys\n",
    "\n",
    "LOG_FORMAT = '%(asctime)s - %(name)s - %(levelname)s - %(message)s'\n",
    "\n",
    "logging.basicConfig(level=logging.ERROR, format=LOG_FORMAT, force=True)\n",
    "\n",
    "logger = logging.getLogger()\n",
    "\n",
    "def handle_exception(exc_type, exc_value, exc_traceback):\n",
    "    if issubclass(exc_type, KeyboardInterrupt):\n",
    "        sys.__excepthook__(exc_type, exc_value, exc_traceback)\n",
    "        return\n",
    "\n",
    "    logger.error(\"Uncaught exception\", exc_info=(exc_type, exc_value, exc_traceback))\n",
    "\n",
    "sys.excepthook = handle_exception\n",
    "\n",
    "# Invalid conversion\n",
    "a = int(\"Hallo\")\n"
   ]
  },
  {
   "cell_type": "markdown",
   "id": "c937bfa785dd1f1d",
   "metadata": {
    "collapsed": false
   },
   "source": [
    "# Konfigurationsdateien mit YAML\n",
    "\n",
    "Es gibt verschiedene Arten von Konfigurationsdateiformaten. Eine Möglichkeit ist der Einsatz von [YAML](https://yaml.org/). \n",
    "\n",
    "Für diese YAML Beispiele und Übungen müssen wir zuerst ein paar Dinge vorbereiten: \n",
    " - `pyyaml` in `requirements.txt` aufnehmen und installieren.  \n",
    " - Datei `example.yaml` mit nachfolgendem Inhalt anlegen:\n",
    "```yaml\n",
    "event-name: \"Flywheel show\"\n",
    "guests:\n",
    "  - \"John Doe\"\n",
    "  - \"Jane Smith\"\n",
    "  - \"Alex Johnson\"\n",
    "  - \"Emily Davis\"\n",
    "  - \"Michael Brown\"\n",
    "```\n",
    "\n",
    "Weitere Informationen und Beispiele: [Python YAML](https://python.land/data-processing/python-yaml)\n",
    "\n",
    "**Challenge 4:** Erweitere den nachfolgenden Code so, dass die ersten drei Gäste in einer Zeile (Komma getrennt) ausgegeben werden. \n",
    "\n",
    "**Hinweis:** Die `pyyaml` Library lädt die YAML-Datei und wandelt sie in entsprechende Python Typen um. Es hilft sich den Inhalt von `event_config` mit dem Debugger anzuschauen. "
   ]
  },
  {
   "cell_type": "code",
   "execution_count": 27,
   "id": "8944adb8807f7967",
   "metadata": {
    "collapsed": false
   },
   "outputs": [
    {
     "name": "stdout",
     "output_type": "stream",
     "text": [
      "Our brand new Flywheel show has a total of 5 guests.\n",
      "The first three guests are: John Doe, Jane Smith, Alex Johnson.\n"
     ]
    }
   ],
   "source": [
    "import yaml\n",
    "\n",
    "with open('example.yaml', \"r\") as file:\n",
    "    event_config = yaml.safe_load(file)\n",
    "\n",
    "first_three_guests = event_config[\"guests\"][:3]\n",
    "first_three_guests_str = \", \".join(first_three_guests)\n",
    "\n",
    "print(f'Our brand new {event_config[\"event-name\"]} has a total of {len(event_config[\"guests\"])} guests.')\n",
    "print(f'The first three guests are: {first_three_guests_str}.')\n"
   ]
  },
  {
   "cell_type": "markdown",
   "id": "c2a90e7e2588eb57",
   "metadata": {
    "collapsed": false
   },
   "source": [
    "Startet ein Service zum ersten Mal, dann hat der User möglicherweise die Konfigurationsdatei noch nicht angelegt. Um die Benutzerfreundlichkeit eines Services zu erhöhen, können wir eine Beispielkonfiguration beim ersten Start gleich anlegen. \n",
    "\n",
    "**Challenge 5:** Erweitere den nachfolgenden Code so, dass folgende Beispielkonfigurationsdatei erstellt wird: \n",
    "```yaml\n",
    "event-name: \"REPLACE WITH EVENT NAME\"\n",
    "guests:\n",
    "  - \"ADD GUEST NAMES HERE\"\n",
    "```\n",
    "\n",
    "**Wichtig:** Es ist in diesem Fall keine schöne Lösung einfach die Beispielkonfigurationsdatei in einen String zu packen und in eine Datei zu schreiben. "
   ]
  },
  {
   "cell_type": "code",
   "execution_count": 29,
   "id": "4ab222cbd2b1fbde",
   "metadata": {
    "collapsed": false
   },
   "outputs": [],
   "source": [
    "import os\n",
    "import sys\n",
    "\n",
    "CONFIG_FILENAME = \"config.yaml\"\n",
    "\n",
    "if not os.path.exists(CONFIG_FILENAME):\n",
    "    example_config = {\"event-name\": \"REPLACE WITH EVENT NAME\"}\n",
    "    with open(CONFIG_FILENAME, 'w') as fp:\n",
    "        yaml.safe_dump(example_config, fp)\n",
    "    logging.error(f\"Configuration file missing. Wrote example configuration file {CONFIG_FILENAME}. Aborting start. \")\n",
    "    sys.exit(1)\n",
    "\n"
   ]
  },
  {
   "cell_type": "markdown",
   "id": "b7244784150c56bf",
   "metadata": {
    "collapsed": false
   },
   "source": [
    "# Code-Struktur\n",
    "\n",
    "Nachdem wir die ersten Erfahrungen mti *Logging* und *YAML* gesammelten haben, wollen wir unseren Service, welchen wir im **Challenge 15** in der vorherigen Übung erstellt haben, mit den neuen \"Features\" erweitern.  \n",
    "\n",
    "Anstatt die Logging-Konfiguration und die YAML-Konfiguration einfach oben im Garagentor-Skript einzufügen, möchten wir unseren Code ein wenig strukturieren. \n",
    "\n",
    "Dafür erstellen wir zwei weitere Dateien bzw. Python Module `app_logger.py` und `app_config.py`. Insgesamt haben wir dann drei Module:\n",
    " - `app_logger.py` - Initialisierung der Protokollierung\n",
    " - `app_config.py` - Laden und initialisieren der Konfigurationsdatei\n",
    " - `main.py` - Der Hauptteil unserer Anwendung, der die beiden Module `app_logger` und `app_config` importiert. \n",
    "\n",
    "### Challenge 7: Protokollierung\n",
    "Ergänze deinen Garagentor-Überwachungsservice mit einer Protokollierung \n",
    "Ziele: \n",
    " - Logging in Datei `app_logger.py` definiert und initialisiert\n",
    " - `main.py` importiert `app_logger`\n",
    " - Protokolliert wird Level *DEBUG* auf das Terminal und Level *INFO* in eine Log-Datei.  \n",
    " - Protokolliert wird mit entsprechendem Log Level: \n",
    "   - INFO: Wenn das Garagentor geöffnet wird.\n",
    "   - INFO: Wenn das Garagentor geschlossen wird. \n",
    "   - INFO: Wenn das Garagentor zu lange offen steht. \n",
    "   - INFO: Wenn sich der MQTT Client erfolgreich verbunden hat.\n",
    "   - DEBUG: Wenn der MQTT Client eine Message empfangt, Topic und Message protokollieren\n",
    " - `print` wird weder in `main.py` noch in `app_logger.py` verwendet. \n",
    " - *Uncaught exceptions* werden abgefangen und protokolliert \n",
    "\n",
    "### Challenge 8: Konfigurationsdatei\n",
    "Ergänze deinen Garagentor-Überwachungsservice mit einer Konfigurationsdatei\n",
    " - Konfigurationsdatei wird in Datei `app_config.py` geladen und als Variable `config` zur Verfügung gestellt. \n",
    " - Wenn keine Konfigurationsdatei vorhanden ist, wird diese automatisch erstellt, die Anwendung bricht den Start in diesem Fall ab und gibt eine Meldung aus. \n",
    " - Die Konfigurationsdatei beinhaltet:\n",
    "   - GARAGE_DOOR_TOPIC\n",
    "   - PUSHOVER_API_TOKEN \n",
    "   - PUSHOVER_USER_ID \n",
    "   - Meldungstext, der an den Mitbewohner geschickt wird: 'Schliess das verdammte Garagentor...'\n",
    "   - MQTT_HOST, MQTT_USER\n",
    " - In `main.py` wird mit `app_config.config` auf die Konfiguration zurückgegriffen. \n",
    " - Die Key-Strings sind in `app_config.py` definiert.\n",
    " - In `main.py` wird auf die Werte in der Konfigurationsdatei zurückgegriffen. (D.h. es steht nicht mehr `\"cloud.tbz.ch\"` in `client.connect(`, sondern es wird der Wert aus der Konfigurationsdatei verwendet. \n",
    "\n",
    "Beispiel verwendung von `app_config` in `main.py`: \n",
    "```python\n",
    "import app_config\n",
    "\n",
    "logging.info(f\"Connecting to {app_config.config[app_config.MQTT_HOST]}\")\n",
    "...\n",
    "```  \n",
    "\n",
    "Beispiel von Key-Strings in `app_config.py`:\n",
    "```python\n",
    "...\n",
    "MQTT_HOST = \"mqtt-host\"\n",
    "MQTT_PORT = \"mqtt-port\"\n",
    "...\n",
    "```\n"
   ]
  }
 ],
 "metadata": {
  "kernelspec": {
   "display_name": "Python 3",
   "language": "python",
   "name": "python3"
  },
  "language_info": {
   "codemirror_mode": {
    "name": "ipython",
    "version": 3
   },
   "file_extension": ".py",
   "mimetype": "text/x-python",
   "name": "python",
   "nbconvert_exporter": "python",
   "pygments_lexer": "ipython3",
   "version": "3.9.6"
  }
 },
 "nbformat": 4,
 "nbformat_minor": 5
}
